{
 "cells": [
  {
   "cell_type": "code",
   "execution_count": 2,
   "id": "initial_id",
   "metadata": {
    "collapsed": true,
    "ExecuteTime": {
     "end_time": "2024-01-04T08:20:33.845345600Z",
     "start_time": "2024-01-04T08:20:33.720471500Z"
    }
   },
   "outputs": [
    {
     "name": "stdout",
     "output_type": "stream",
     "text": [
      "Parent process 18612.\n",
      "Child process will start.\n",
      "Child process end.\n"
     ]
    }
   ],
   "source": [
    "from multiprocessing import Process\n",
    "import os\n",
    "\n",
    "\n",
    "# multiprocessing\n",
    "\n",
    "def run_proc(name):\n",
    "    print('Run child process %s (%s)...' % (name, os.getpid()))\n",
    "\n",
    "\n",
    "if __name__ == '__main__':\n",
    "    print('Parent process %s.' % os.getpid())\n",
    "    p = Process(target=run_proc, args=('test',))\n",
    "    print('Child process will start.')\n",
    "    p.start()\n",
    "    p.join()\n",
    "    print('Child process end.')"
   ]
  },
  {
   "cell_type": "code",
   "outputs": [
    {
     "name": "stdout",
     "output_type": "stream",
     "text": [
      "Parent process 18612.\n",
      "Waiting for all subprocesses done...\n"
     ]
    }
   ],
   "source": [
    "# pool 进程池\n",
    "from multiprocessing import Pool\n",
    "import os, time, random\n",
    "\n",
    "\n",
    "def long_time_task(name):\n",
    "    print('Run task %s (%s)...' % (name, os.getpid()))\n",
    "    start = time.time()\n",
    "    time.sleep(random.random() * 3)\n",
    "    end = time.time()\n",
    "    print('Task %s runs %0.2f seconds.' % (name, (end - start)))\n",
    "\n",
    "\n",
    "if __name__ == '__main__':\n",
    "    print('Parent process %s.' % os.getpid())\n",
    "    p = Pool(4)\n",
    "    for i in range(5):\n",
    "        # 执行异步操作\n",
    "        p.apply_async(long_time_task, args=(i,))\n",
    "    print('Waiting for all subprocesses done...')\n",
    "    p.close()\n",
    "    p.join()\n",
    "    print('All subprocesses done.')"
   ],
   "metadata": {
    "collapsed": false,
    "is_executing": true,
    "ExecuteTime": {
     "start_time": "2024-01-04T08:21:00.569609300Z"
    }
   },
   "id": "9600a08bd24bc22b"
  },
  {
   "cell_type": "code",
   "outputs": [],
   "source": [
    "#子进程\n",
    "# 子进程有时候不是自身，而是当作一个外部进程。我们有时候创建子进程候，还要控制子进程的输入和输出\n",
    "import subprocess  # 启动一个子进程，进行控制输入输出\n",
    "\n",
    "print('$ nslookup www.zqywuku.top')\n",
    "r = subprocess.call(['nslookup', 'www.zqywuku.top'])\n",
    "print('Exit code:', r)\n",
    "\n",
    "import subprocess\n",
    "\n",
    "print('$ nslookup')\n",
    "#subprocess.PIPE 为输入输出错误 提供一个管道，可以进行输入和读取\n",
    "p = subprocess.Popen(['nslookup'], stdin=subprocess.PIPE, stdout=subprocess.PIPE, stderr=subprocess.PIPE)\n",
    "output, err = p.communicate(b'set q=mx\\npython.org\\nexit\\n')\n",
    "print(output.decode('gbk'))\n",
    "print('Exit code:', p.returncode)\n"
   ],
   "metadata": {
    "collapsed": false
   },
   "id": "8169e604f3906de5"
  },
  {
   "cell_type": "code",
   "outputs": [],
   "source": [
    "#进程通信\n",
    "from multiprocessing import Queue, Process\n",
    "import os, time, random\n",
    "\n",
    "\n",
    "def write(q: Queue):\n",
    "    print('Process to write %s' % os.getpid())\n",
    "    for value in ['A', 'B', 'C']:\n",
    "        print('put %s to queue...' % value)\n",
    "        q.put(value)\n",
    "        time.sleep(random.random())\n",
    "\n",
    "\n",
    "def read(q: Queue):\n",
    "    print('Process to get %s' % os.getpid())\n",
    "    while True:\n",
    "        # block = True,是否阻塞直到有参数出现\n",
    "        value = q.get(True)\n",
    "        print('Get %s from queue' % value)\n",
    "\n",
    "\n",
    "if __name__ == '__main__':\n",
    "    q = Queue()\n",
    "    pw = Process(target=write, args=(q,))\n",
    "    pr = Process(target=read, args=(q,))\n",
    "    pw.start()\n",
    "    pr.start()\n",
    "    pw.join()\n",
    "    # 死循环，强制暂停\n",
    "    pr.terminate()"
   ],
   "metadata": {
    "collapsed": false
   },
   "id": "34ab487d4eae992e"
  },
  {
   "cell_type": "markdown",
   "source": [
    "# 多线程\n",
    "**_thread/threading**"
   ],
   "metadata": {
    "collapsed": false
   },
   "id": "96b57f1e178186ad"
  },
  {
   "cell_type": "code",
   "outputs": [],
   "source": [
    "import time, threading\n",
    "\n",
    "\n",
    "# 新线程执行的代码:\n",
    "def loop():\n",
    "    print('thread %s is running...' % threading.current_thread().name)\n",
    "    n = 0\n",
    "    while n < 5:\n",
    "        n = n + 1\n",
    "        print('thread %s >>> %s' % (threading.current_thread().name, n))\n",
    "        time.sleep(1)\n",
    "    print('thread %s ended.' % threading.current_thread().name)\n",
    "\n",
    "\n",
    "print('thread %s is running...' % threading.current_thread().name)  # 主线程名字：MainThread\n",
    "t = threading.Thread(target=loop, name='LoopThread')  # 子线程名称：LoopThread\n",
    "t.start()\n",
    "t.join()\n",
    "print('thread %s ended.' % threading.current_thread().name)"
   ],
   "metadata": {
    "collapsed": false
   },
   "id": "71e4e046cc3e0962"
  },
  {
   "cell_type": "code",
   "outputs": [],
   "source": [
    "# 多进程，每个进程维护自己的变量，不会影响其他进程的\n",
    "# 多线程在同一个进程下，所以数据是共享的，操作不当会引起数据不按照预期执行\n",
    "import time, threading\n",
    "\n",
    "# 假定这是你的银行存款:\n",
    "balance = 0\n",
    "\n",
    "\"\"\"加锁\"\"\"\n",
    "lock = threading.Lock()\n",
    "\n",
    "\n",
    "def change_it(n):\n",
    "    # 先存后取，结果应该为0:\n",
    "    global balance\n",
    "    balance = balance + n\n",
    "    balance = balance - n\n",
    "\n",
    "\n",
    "def run_thread(n):\n",
    "    for i in range(2000000):\n",
    "        # 先获取锁\n",
    "        lock.acquire()\n",
    "        try:\n",
    "            change_it(n)\n",
    "        finally:\n",
    "            # 最后记得释放\n",
    "            lock.release()\n",
    "\n",
    "\n",
    "# 1.解释将整个方法的构建都给线程进行操作，不能保证方法的完整性\n",
    "t1 = threading.Thread(target=run_thread, args=(5,))\n",
    "t2 = threading.Thread(target=run_thread, args=(8,))\n",
    "\n",
    "# 2.这种写法，相当于把整个方法作为一个整体交给线程进行操作，所以+-操作都在一起\n",
    "# t1 = threading.Thread(target=run_thread(5))\n",
    "# t2 = threading.Thread(target=run_thread(8))\n",
    "# balance = 0\n",
    "t1.start()\n",
    "t2.start()\n",
    "t1.join()\n",
    "t2.join()\n",
    "print(balance)  #存了又取，预期为0；但是多线程会导致操作顺序不一致\n",
    "\"\"\"\n",
    "解决方案：使用lock锁\n",
    "\"\"\"\n"
   ],
   "metadata": {
    "collapsed": false
   },
   "id": "6f239a490fe82bcc"
  },
  {
   "cell_type": "markdown",
   "source": [
    "# ThreadLocal 全局对象"
   ],
   "metadata": {
    "collapsed": false
   },
   "id": "163e664799047ea2"
  },
  {
   "cell_type": "code",
   "outputs": [],
   "source": [
    "import threading\n",
    "\n",
    "local_school = threading.local()\n",
    "\n",
    "\n",
    "def process_student():\n",
    "    # 获取当前线程关联的student:\n",
    "    std = local_school.student\n",
    "    print('Hello, %s (in %s)' % (std, threading.current_thread().name))\n",
    "\n",
    "\n",
    "def process_thread(name):\n",
    "    # 绑定ThreadLocal的student:\n",
    "    local_school.student = name\n",
    "    process_student()\n",
    "\n",
    "\n",
    "t1 = threading.Thread(target=process_thread, args=('Alice',), name='Thread-A')\n",
    "t2 = threading.Thread(target=process_thread, args=('Bob',), name='Thread-B')\n",
    "t1.start()\n",
    "t2.start()\n",
    "t1.join()\n",
    "t2.join()\n"
   ],
   "metadata": {
    "collapsed": false
   },
   "id": "48bb500ff0fef4ac"
  },
  {
   "cell_type": "markdown",
   "source": [
    "# 进程 vs 线程\n",
    "多进程：\n",
    "    优点:\n",
    "        - 稳定性高，一个进程崩溃不会影响主进程和其他子进程\n",
    "    缺点:\n",
    "        - 创建进程的代价较大，并且受到内存和CPU的限制\n",
    "多线程:\n",
    "    优点：\n",
    "        - 创建较为方便\n",
    "    缺点：\n",
    "        - 受其他线程影响，任何一个线程挂掉都会导致整个进程崩溃，因为线程共享进程的内存\n",
    "# 线程切换\n",
    "先切切换会有资源的浪费，虽然快但是也要浪费时间。当任务过多，那么就会出现假死的状态。\n",
    "# 计算密集型和IO密集型\n",
    "计算密集型：进行大量计算，消耗CPU资源，因为任务过多那么任务切换时间就会越多，CPU执行效率就越低，所以最好计算密集型任务进行的数量等于CPU的核心数；python不适合，建议**c语言**\n",
    "\n",
    "IO密集型：CPU消耗少，大部分时间等待IO操作完成。所以任务越多，CPU效率越高，减少任务的等待时间。对于IO密集型任务，最合适的语言就是开发效率最高（代码量最少）的语言，脚本语言是首选，C语言最差。\n",
    "`备注：进程是最小调度单元，线程是最小执行单元，协程基于事件驱动`"
   ],
   "metadata": {
    "collapsed": false
   },
   "id": "255e909c1ea0b98c"
  },
  {
   "cell_type": "markdown",
   "source": [
    "# 分布式进程 \n",
    "managers模块支持多进程分布不同机器上。"
   ],
   "metadata": {
    "collapsed": false
   },
   "id": "a90ad385fa387c6a"
  },
  {
   "cell_type": "code",
   "outputs": [],
   "source": [],
   "metadata": {
    "collapsed": false
   },
   "id": "97c713b69b0a84c4"
  }
 ],
 "metadata": {
  "kernelspec": {
   "display_name": "Python 3",
   "language": "python",
   "name": "python3"
  },
  "language_info": {
   "codemirror_mode": {
    "name": "ipython",
    "version": 2
   },
   "file_extension": ".py",
   "mimetype": "text/x-python",
   "name": "python",
   "nbconvert_exporter": "python",
   "pygments_lexer": "ipython2",
   "version": "2.7.6"
  }
 },
 "nbformat": 4,
 "nbformat_minor": 5
}
