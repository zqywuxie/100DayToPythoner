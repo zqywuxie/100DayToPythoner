{
 "cells": [
  {
   "cell_type": "markdown",
   "source": [
    "# 日期和时间"
   ],
   "metadata": {
    "collapsed": false
   },
   "id": "80e14dc4c24f5a86"
  },
  {
   "cell_type": "code",
   "outputs": [
    {
     "name": "stdout",
     "output_type": "stream",
     "text": [
      "2024-01-04 19:23:31.860761\n",
      "2024-03-20 19:12:39\n",
      "2024-03-20 19:12:39\n"
     ]
    },
    {
     "data": {
      "text/plain": "'Mon 01 06 2015'"
     },
     "execution_count": 15,
     "metadata": {},
     "output_type": "execute_result"
    }
   ],
   "source": [
    "from datetime import datetime\n",
    "\n",
    "now = datetime.now()\n",
    "print(now)\n",
    "# 构建时间\n",
    "dt = datetime(2024, 3, 20, 19, 12, 39)\n",
    "print(dt)\n",
    "\n",
    "#时间戳 从1970-1-1 开始\n",
    "t = dt.timestamp()\n",
    "print(datetime.fromtimestamp(t))\n",
    "\n",
    "# str 转换 datetime\n",
    "\n",
    "cday = datetime.strptime('15-6-1 18:19:59', '%y-%m-%d %H:%M:%S')\n",
    "cday.strftime('%a %d %m %Y')"
   ],
   "metadata": {
    "collapsed": true,
    "ExecuteTime": {
     "end_time": "2024-01-04T11:23:31.893461700Z",
     "start_time": "2024-01-04T11:23:31.862944100Z"
    }
   },
   "id": "initial_id",
   "execution_count": 15
  },
  {
   "cell_type": "markdown",
   "source": [
    "# 集合模块 collections"
   ],
   "metadata": {
    "collapsed": false
   },
   "id": "521b64eef05554fd"
  },
  {
   "cell_type": "code",
   "outputs": [
    {
     "data": {
      "text/plain": "True"
     },
     "execution_count": 18,
     "metadata": {},
     "output_type": "execute_result"
    }
   ],
   "source": [
    "p = (1, 2)  #元组可以表示不变集合，可以用此来表示一个二维坐标\n",
    "# 但是意义并不明确，定义一个类过于繁琐\n",
    "\n",
    "#namedtuple 创建一个自定义的对象\n",
    "from collections import namedtuple\n",
    "\n",
    "Point = namedtuple('Point', ['x', 'y'])\n",
    "p = Point(1, 2)\n",
    "p.x  # 1,可以通过属性名进行获取数据\n",
    "isinstance(p, tuple)  # True"
   ],
   "metadata": {
    "collapsed": false,
    "ExecuteTime": {
     "end_time": "2024-01-04T11:30:37.410888600Z",
     "start_time": "2024-01-04T11:30:37.397356600Z"
    }
   },
   "id": "e00065017bed71e2",
   "execution_count": 18
  },
  {
   "cell_type": "markdown",
   "source": [
    "# deque 双端列表   "
   ],
   "metadata": {
    "collapsed": false
   },
   "id": "6b04e268591f3f3a"
  },
  {
   "cell_type": "code",
   "outputs": [
    {
     "name": "stdout",
     "output_type": "stream",
     "text": [
      "deque(['c', 'ab'])\n"
     ]
    }
   ],
   "source": [
    "from collections import deque\n",
    "\n",
    "q = deque(['a', 'b'])\n",
    "q.appendleft('c')\n",
    "print(q)"
   ],
   "metadata": {
    "collapsed": false,
    "ExecuteTime": {
     "end_time": "2024-01-04T11:31:27.793656800Z",
     "start_time": "2024-01-04T11:31:27.750658600Z"
    }
   },
   "id": "c1c2f632cfad57e",
   "execution_count": 19
  },
  {
   "cell_type": "markdown",
   "source": [
    "# defaultdict 设置默认值的字典"
   ],
   "metadata": {
    "collapsed": false
   },
   "id": "8a4572c3580aeecb"
  },
  {
   "cell_type": "code",
   "outputs": [
    {
     "data": {
      "text/plain": "'N/A'"
     },
     "execution_count": 20,
     "metadata": {},
     "output_type": "execute_result"
    }
   ],
   "source": [
    "from collections import defaultdict\n",
    "\n",
    "dd = defaultdict(lambda: 'N/A')\n",
    "dd['a']"
   ],
   "metadata": {
    "collapsed": false,
    "ExecuteTime": {
     "end_time": "2024-01-04T11:37:52.446428800Z",
     "start_time": "2024-01-04T11:37:52.405224Z"
    }
   },
   "id": "de2e7da0361e6693",
   "execution_count": 20
  },
  {
   "cell_type": "markdown",
   "source": [
    "# OrderedDict 排序的字典"
   ],
   "metadata": {
    "collapsed": false
   },
   "id": "3b14022d1ad3c0"
  },
  {
   "cell_type": "code",
   "outputs": [
    {
     "name": "stdout",
     "output_type": "stream",
     "text": [
      "OrderedDict([('a', 1), ('b', 3)])\n"
     ]
    }
   ],
   "source": [
    "from collections import OrderedDict\n",
    "\n",
    "# d = dict([('a', 1), ('b', 3), ('c', 2)])\n",
    "# d\n",
    "\n",
    "# 按照插入的顺序排列，而不是按照key本身进行排列\n",
    "od = OrderedDict([('a', 1), ('b', 3), ('c', 2)])\n",
    "# last 是否删除最新的内容，否则删除最旧的\n",
    "od.popitem(last=True)\n",
    "print(od)"
   ],
   "metadata": {
    "collapsed": false,
    "ExecuteTime": {
     "end_time": "2024-01-04T11:46:20.255861900Z",
     "start_time": "2024-01-04T11:46:20.237633700Z"
    }
   },
   "id": "987a1efb16a1837d",
   "execution_count": 35
  },
  {
   "cell_type": "markdown",
   "source": [
    "# ChainMap 将dict组成一个逻辑上的dict"
   ],
   "metadata": {
    "collapsed": false
   },
   "id": "f2341379baf419f3"
  },
  {
   "cell_type": "code",
   "outputs": [
    {
     "name": "stderr",
     "output_type": "stream",
     "text": [
      "usage: ipykernel_launcher.py [-h] [-u USER] [-c COLOR]\n",
      "ipykernel_launcher.py: error: unrecognized arguments: -f C:\\Users\\wuxie\\AppData\\Roaming\\jupyter\\runtime\\kernel-26c91c03-6399-4246-8aab-c28503ad9a5b.json\n"
     ]
    },
    {
     "ename": "SystemExit",
     "evalue": "2",
     "output_type": "error",
     "traceback": [
      "An exception has occurred, use %tb to see the full traceback.\n",
      "\u001B[1;31mSystemExit\u001B[0m\u001B[1;31m:\u001B[0m 2\n"
     ]
    },
    {
     "name": "stderr",
     "output_type": "stream",
     "text": [
      "C:\\Users\\wuxie\\AppData\\Local\\Programs\\Python\\Python39\\lib\\site-packages\\IPython\\core\\interactiveshell.py:3558: UserWarning: To exit: use 'exit', 'quit', or Ctrl-D.\n",
      "  warn(\"To exit: use 'exit', 'quit', or Ctrl-D.\", stacklevel=1)\n"
     ]
    }
   ],
   "source": [
    "#举个例子：应用程序往往都需要传入参数，参数可以通过命令行传入，可以通过环境变量传入，还可以有默认参数。我们可以用ChainMap实现参数的优先级查找，即先查命令行参数，如果没有传入，再查环境变量，如果没有，就使用默认参数\n",
    "\n",
    "from collections import ChainMap\n",
    "import os, argparse\n",
    "\n",
    "defaults = {\n",
    "    'color': 'red',\n",
    "    'user': 'guest'\n",
    "}\n",
    "\n",
    "# 命令行参数解析器\n",
    "parser = argparse.ArgumentParser()\n",
    "# 运行时可选参数，\n",
    "parser.add_argument('-u', '--user')\n",
    "parser.add_argument('-c', '--color')\n",
    "\n",
    "# 解析参数\n",
    "namespace = parser.parse_args()\n",
    "\n",
    "#vars返回一个字典，items返回字典的键值对\n",
    "command_line_args = {k: v for k, v in vars(namespace).items() if v}\n",
    "\n",
    "# 组合成ChainMap:\n",
    "# 命令行优先\n",
    "combined = ChainMap(command_line_args, os.environ, defaults)\n",
    "\n",
    "# 打印参数:\n",
    "print('color=%s' % combined['color'])\n",
    "print('user=%s' % combined['user'])"
   ],
   "metadata": {
    "collapsed": false,
    "ExecuteTime": {
     "end_time": "2024-01-04T11:49:39.798751100Z",
     "start_time": "2024-01-04T11:49:39.767351900Z"
    }
   },
   "id": "9462026b2ef1f9ed",
   "execution_count": 36
  },
  {
   "cell_type": "markdown",
   "source": [
    "# Counter 计数器"
   ],
   "metadata": {
    "collapsed": false
   },
   "id": "3dee23003b690a16"
  },
  {
   "cell_type": "code",
   "outputs": [
    {
     "name": "stdout",
     "output_type": "stream",
     "text": [
      "Counter({'l': 3, 'o': 2, 'h': 1, 'e': 1, ' ': 1, 'w': 1, 'r': 1, 'd': 1})\n"
     ]
    }
   ],
   "source": [
    "# Counter也是dict的子类\n",
    "from collections import Counter\n",
    "\n",
    "c = Counter()\n",
    "for ch in 'hello world':\n",
    "    c[ch] += 1\n",
    "print(c)  #Counter({'l': 3, 'o': 2, 'h': 1, 'e': 1, ' ': 1, 'w': 1, 'r': 1, 'd': 1})"
   ],
   "metadata": {
    "collapsed": false,
    "ExecuteTime": {
     "end_time": "2024-01-04T11:54:20.965142800Z",
     "start_time": "2024-01-04T11:54:20.955046600Z"
    }
   },
   "id": "e834c9d66d249934",
   "execution_count": 37
  },
  {
   "cell_type": "markdown",
   "source": [
    "# argparse 命令行参数解析"
   ],
   "metadata": {
    "collapsed": false
   },
   "id": "82458ed417aeb2bd"
  },
  {
   "cell_type": "code",
   "outputs": [
    {
     "name": "stderr",
     "output_type": "stream",
     "text": [
      "usage: backup [-h] [--host HOST] [--port PORT] -u USER -p PASSWORD --database\n",
      "              DATABASE [-gz]\n",
      "              outfile\n",
      "backup: error: the following arguments are required: -u/--user, -p/--password, --database\n"
     ]
    },
    {
     "ename": "SystemExit",
     "evalue": "2",
     "output_type": "error",
     "traceback": [
      "An exception has occurred, use %tb to see the full traceback.\n",
      "\u001B[1;31mSystemExit\u001B[0m\u001B[1;31m:\u001B[0m 2\n"
     ]
    }
   ],
   "source": [
    "# backup.py\n",
    "\n",
    "import argparse\n",
    "\n",
    "\n",
    "def main():\n",
    "    # 定义一个ArgumentParser实例:\n",
    "    parser = argparse.ArgumentParser(\n",
    "        prog='backup',  # 程序名\n",
    "        description='Backup MySQL database.',  # 描述\n",
    "        epilog='Copyright(r), 2023'  # 说明信息\n",
    "    )\n",
    "    # 定义位置参数:\n",
    "    parser.add_argument('outfile')\n",
    "    # 定义关键字参数:\n",
    "    parser.add_argument('--host', default='localhost')\n",
    "    # 此参数必须为int类型:\n",
    "    parser.add_argument('--port', default='3306', type=int)\n",
    "    # 允许用户输入简写的-u:\n",
    "    parser.add_argument('-u', '--user', required=True)\n",
    "    parser.add_argument('-p', '--password', required=True)\n",
    "    parser.add_argument('--database', required=True)\n",
    "    # gz参数不跟参数值，因此指定action='store_true'，意思是出现-gz表示True:\n",
    "    parser.add_argument('-gz', '--gzcompress', action='store_true', required=False, help='Compress backup files by gz.')\n",
    "\n",
    "    # 解析参数:\n",
    "    args = parser.parse_args()\n",
    "\n",
    "    # 打印参数:\n",
    "    print('parsed args:')\n",
    "    print(f'outfile = {args.outfile}')\n",
    "    print(f'host = {args.host}')\n",
    "    print(f'port = {args.port}')\n",
    "    print(f'user = {args.user}')\n",
    "    print(f'password = {args.password}')\n",
    "    print(f'database = {args.database}')\n",
    "    print(f'gzcompress = {args.gzcompress}')\n",
    "\n",
    "\n",
    "if __name__ == '__main__':\n",
    "    main()"
   ],
   "metadata": {
    "collapsed": false,
    "ExecuteTime": {
     "end_time": "2024-01-04T11:58:33.486525600Z",
     "start_time": "2024-01-04T11:58:33.465840300Z"
    }
   },
   "id": "be935e69556581e2",
   "execution_count": 41
  },
  {
   "cell_type": "markdown",
   "source": [
    "# base64 编码"
   ],
   "metadata": {
    "collapsed": false
   },
   "id": "855a04383cfbb000"
  },
  {
   "cell_type": "code",
   "outputs": [
    {
     "data": {
      "text/plain": "b'binary\\x00string'"
     },
     "execution_count": 42,
     "metadata": {},
     "output_type": "execute_result"
    }
   ],
   "source": [
    "# Base64是一种通过查表的编码方法，不能用于加密，即使使用自定义的编码表也不行。\n",
    "# \n",
    "# Base64适用于小段内容的编码，比如数字证书签名、Cookie的内容等。\n",
    "\n",
    "import base64\n",
    "\n",
    "base64.b64encode(b'binary\\x00string')\n",
    "# b'YmluYXJ5AHN0cmluZw=='\n",
    "base64.b64decode(b'YmluYXJ5AHN0cmluZw==')\n",
    "# b'binary\\x00string'\n",
    "\n",
    "\n",
    "# 由于标准的Base64编码后可能出现字符+和/，在URL中就不能直接作为参数，所以又有一种\"url safe\"的base64编码，其实就是把字符+和/分别变成-和_：\n",
    "# base64.urlsafe_b64decode()\n",
    "\n",
    "# 由于=字符也可能出现在Base64编码中，但=用在URL、Cookie里面会造成歧义，所以，很多Base64编码后会把=去掉：\n",
    "\"\"\"去掉后如何解码？因为base64将3字节变为4字节，所以长度总是4的倍数，所以添加=使得其称为4的倍数\"\"\"\n",
    "\n",
    "\"\"\"例题，能处理去掉=的base64解码函数\"\"\"\n",
    "import base64\n",
    "\n",
    "\n",
    "def safe_base64_decode(s):\n",
    "    return base64.b64decode(s + ('===='[len(s) % 4:]))\n",
    "\n",
    "\n",
    "# 测试:\n",
    "assert b'abcd' == safe_base64_decode('YWJjZA=='), safe_base64_decode('YWJjZA==')\n",
    "assert b'abcd' == safe_base64_decode('YWJjZA'), safe_base64_decode('YWJjZA')\n",
    "print('ok')\n"
   ],
   "metadata": {
    "collapsed": false,
    "ExecuteTime": {
     "end_time": "2024-01-04T12:10:09.381129600Z",
     "start_time": "2024-01-04T12:10:09.350789500Z"
    }
   },
   "id": "8b5609e8fc123850",
   "execution_count": 42
  },
  {
   "cell_type": "markdown",
   "source": [
    "# hashlib "
   ],
   "metadata": {
    "collapsed": false
   },
   "id": "84ee429a297c3e1e"
  },
  {
   "cell_type": "code",
   "outputs": [
    {
     "name": "stdout",
     "output_type": "stream",
     "text": [
      "d26a53750bc40b38b65a520292f69306\n"
     ]
    }
   ],
   "source": [
    "import hashlib\n",
    "\n",
    "md5 = hashlib.md5()\n",
    "md5.update('how to use md5 in python hashlib?'.encode('utf-8'))\n",
    "print(md5.hexdigest())\n",
    "\n",
    "# 通常黑客会事先准备一些常用字符串的md数据库，然后进行比对md5，导致最后结果也不安全\n",
    "# 所以常常进行 加盐(往加密内容中加入一些令牌等)，以后比对计算的时候就加入进去"
   ],
   "metadata": {
    "collapsed": false,
    "ExecuteTime": {
     "end_time": "2024-01-04T12:21:55.129432300Z",
     "start_time": "2024-01-04T12:21:55.120187Z"
    }
   },
   "id": "7466e73e1940f572",
   "execution_count": 46
  },
  {
   "cell_type": "markdown",
   "source": [
    "# hmac 实现加盐算法"
   ],
   "metadata": {
    "collapsed": false
   },
   "id": "93231a91d0282c0a"
  },
  {
   "cell_type": "code",
   "outputs": [
    {
     "data": {
      "text/plain": "'fa4ee7d173f2d97ee79022d1a7355bcf'"
     },
     "execution_count": 47,
     "metadata": {},
     "output_type": "execute_result"
    }
   ],
   "source": [
    "import hmac\n",
    "\n",
    "message = b'Hello, world!'\n",
    "key = b'secret'\n",
    "# 参数值都bytes\n",
    "h = hmac.new(key, message, digestmod='MD5')\n",
    "# 如果消息很长，可以多次调用h.update(msg)\n",
    "h.hexdigest()"
   ],
   "metadata": {
    "collapsed": false,
    "ExecuteTime": {
     "end_time": "2024-01-04T12:27:46.970326300Z",
     "start_time": "2024-01-04T12:27:46.930666100Z"
    }
   },
   "id": "7f8ff68dfddb9407",
   "execution_count": 47
  },
  {
   "cell_type": "markdown",
   "source": [
    "# itertools 操作迭代对象"
   ],
   "metadata": {
    "collapsed": false
   },
   "id": "bb99b7f286e1f045"
  },
  {
   "cell_type": "code",
   "outputs": [
    {
     "ename": "TypeError",
     "evalue": "a number is required",
     "output_type": "error",
     "traceback": [
      "\u001B[1;31m---------------------------------------------------------------------------\u001B[0m",
      "\u001B[1;31mTypeError\u001B[0m                                 Traceback (most recent call last)",
      "Cell \u001B[1;32mIn[1], line 2\u001B[0m\n\u001B[0;32m      1\u001B[0m \u001B[38;5;28;01mimport\u001B[39;00m \u001B[38;5;21;01mitertools\u001B[39;00m\n\u001B[1;32m----> 2\u001B[0m natuals \u001B[38;5;241m=\u001B[39m \u001B[43mitertools\u001B[49m\u001B[38;5;241;43m.\u001B[39;49m\u001B[43mcount\u001B[49m\u001B[43m(\u001B[49m\u001B[38;5;124;43m'\u001B[39;49m\u001B[38;5;124;43mABC\u001B[39;49m\u001B[38;5;124;43m'\u001B[39;49m\u001B[43m)\u001B[49m\n\u001B[0;32m      3\u001B[0m \u001B[38;5;28;01mfor\u001B[39;00m n \u001B[38;5;129;01min\u001B[39;00m natuals:\n\u001B[0;32m      4\u001B[0m     \u001B[38;5;28mprint\u001B[39m(n)\n",
      "\u001B[1;31mTypeError\u001B[0m: a number is required"
     ]
    }
   ],
   "source": [
    "import itertools\n",
    "\n",
    "natuals = itertools.count(1)  # 从1开始无限迭代\n",
    "for n in natuals:\n",
    "    print(n)\n",
    "\n",
    "cs = itertools.cycle('ABC')  # 将A,B,C无限重复\n",
    "\n",
    "re = itertools.repeat('2', 3)  # 重复迭代\n",
    "\n",
    "natuals = itertools.count(1)\n",
    "# 给定函数条件截取\n",
    "ns = itertools.takewhile(lambda x: x <= 10, natuals)\n",
    "print(list(ns))\n",
    "\n",
    "# chain()可以把一组迭代对象串联起来，形成一个更大的迭代器：\n",
    "\n",
    "for c in itertools.chain('ABC', 'XYZ'):\n",
    "    print(c)\n",
    "# 迭代效果：'A' 'B' 'C' 'X' 'Y' 'Z'\n",
    "\n",
    "\n",
    "#groupby()把迭代器中相邻的重复元素挑出来放在一起：\n",
    "# 变成小写进行分割\n",
    "for key, group in itertools.groupby('AaaBBBCCAAA', lambda x: x.lower()):\n",
    "    print(key, list(group))\n",
    "# A ['A', 'A', 'A']\n",
    "# B ['B', 'B', 'B']\n",
    "# C ['C', 'C']\n",
    "# A ['A', 'A', 'A']"
   ],
   "metadata": {
    "collapsed": false,
    "ExecuteTime": {
     "end_time": "2024-01-04T12:33:13.259546Z",
     "start_time": "2024-01-04T12:33:12.787306600Z"
    }
   },
   "id": "c878fecc503ebc0",
   "execution_count": 1
  },
  {
   "cell_type": "code",
   "outputs": [
    {
     "name": "stdout",
     "output_type": "stream",
     "text": [
      "4.53302212063822\n",
      "9.13736875720653\n",
      "13.742530693340418\n",
      "18.347700796828516\n"
     ]
    },
    {
     "ename": "AssertionError",
     "evalue": "",
     "output_type": "error",
     "traceback": [
      "\u001B[1;31m---------------------------------------------------------------------------\u001B[0m",
      "\u001B[1;31mAssertionError\u001B[0m                            Traceback (most recent call last)",
      "Cell \u001B[1;32mIn[6], line 21\u001B[0m\n\u001B[0;32m     19\u001B[0m \u001B[38;5;28mprint\u001B[39m(pi(\u001B[38;5;241m1000\u001B[39m))\n\u001B[0;32m     20\u001B[0m \u001B[38;5;28mprint\u001B[39m(pi(\u001B[38;5;241m10000\u001B[39m))\n\u001B[1;32m---> 21\u001B[0m \u001B[38;5;28;01massert\u001B[39;00m \u001B[38;5;241m3.04\u001B[39m \u001B[38;5;241m<\u001B[39m pi(\u001B[38;5;241m10\u001B[39m) \u001B[38;5;241m<\u001B[39m \u001B[38;5;241m3.05\u001B[39m\n\u001B[0;32m     22\u001B[0m \u001B[38;5;28;01massert\u001B[39;00m \u001B[38;5;241m3.13\u001B[39m \u001B[38;5;241m<\u001B[39m pi(\u001B[38;5;241m100\u001B[39m) \u001B[38;5;241m<\u001B[39m \u001B[38;5;241m3.14\u001B[39m\n\u001B[0;32m     23\u001B[0m \u001B[38;5;66;03m# assert 3.140 < pi(1000) < 3.141\u001B[39;00m\n\u001B[0;32m     24\u001B[0m \u001B[38;5;66;03m# assert 3.1414 < pi(10000) < 3.1415\u001B[39;00m\n",
      "\u001B[1;31mAssertionError\u001B[0m: "
     ]
    }
   ],
   "source": [
    "# 案例\n",
    "def pi(N):\n",
    "    ' 计算pi的值 '\n",
    "    # step 1: 创建一个奇数序列: 1, 3, 5, 7, 9, ...  \n",
    "    odd = itertools.count(1, 2)\n",
    "    # step 2: 取该序列的前N项: 1, 3, 5, 7, 9, ..., 2*N-1.  \n",
    "    odd = itertools.takewhile(lambda x: x <= 2 * N - 1, odd)\n",
    "    # step 3: 添加正负符号并用4除: 4/1, -4/3, 4/5, -4/7, 4/9, ...  \n",
    "    numerator = 4\n",
    "    # step 4: 求和:  \n",
    "    # return sum(sign * numerator / denominator for numerator, denominator, _ in (enumerate(odd, start=1)),\n",
    "    #            sign in [-1, 1])\n",
    "\n",
    "\n",
    "print(pi(10))\n",
    "print(pi(100))\n",
    "print(pi(1000))\n",
    "print(pi(10000))\n",
    "assert 3.04 < pi(10) < 3.05\n",
    "assert 3.13 < pi(100) < 3.14\n",
    "assert 3.140 < pi(1000) < 3.141\n",
    "assert 3.1414 < pi(10000) < 3.1415\n",
    "print('ok')"
   ],
   "metadata": {
    "collapsed": false,
    "ExecuteTime": {
     "end_time": "2024-01-04T12:47:28.813955400Z",
     "start_time": "2024-01-04T12:47:28.781640600Z"
    }
   },
   "id": "364bbf9ee440a5b",
   "execution_count": 6
  },
  {
   "cell_type": "markdown",
   "source": [
    "# 上下文管理"
   ],
   "metadata": {
    "collapsed": false
   },
   "id": "63f489d711ecc8eb"
  },
  {
   "cell_type": "code",
   "outputs": [
    {
     "name": "stdout",
     "output_type": "stream",
     "text": [
      "Begin\n",
      "Query info about demo...\n",
      "End\n"
     ]
    }
   ],
   "source": [
    "# 实现上下文管理是通过__enter__和__exit__这两个方法实现的。\n",
    "\n",
    "class Query(object):\n",
    "\n",
    "    def __init__(self, name):\n",
    "        self.name = name\n",
    "\n",
    "    def __enter__(self):\n",
    "        print('Begin')\n",
    "        return self\n",
    "\n",
    "    def __exit__(self, exc_type, exc_value, traceback):\n",
    "        if exc_type:\n",
    "            print('Error')\n",
    "        else:\n",
    "            print('End')\n",
    "\n",
    "    def query(self):\n",
    "        print('Query info about %s...' % self.name)\n",
    "\n",
    "\n",
    "with Query('demo') as q:\n",
    "    q.query()\n",
    "\n",
    "# Begin\n",
    "# Query info about demo...\n",
    "# End"
   ],
   "metadata": {
    "collapsed": false,
    "ExecuteTime": {
     "end_time": "2024-01-04T12:54:40.929540200Z",
     "start_time": "2024-01-04T12:54:40.853686100Z"
    }
   },
   "id": "63aeb8f02a7d5b22",
   "execution_count": 7
  },
  {
   "cell_type": "code",
   "outputs": [
    {
     "name": "stdout",
     "output_type": "stream",
     "text": [
      "Begin\n",
      "Query info about 123...\n",
      "End\n"
     ]
    }
   ],
   "source": [
    "# 使用标准库contextlib\n",
    "from contextlib import contextmanager\n",
    "\n",
    "\n",
    "class Query(object):\n",
    "\n",
    "    def __init__(self, name):\n",
    "        self.name = name\n",
    "\n",
    "    def query(self):\n",
    "        print('Query info about %s...' % self.name)\n",
    "\n",
    "\n",
    "@contextmanager\n",
    "def create_query(name):\n",
    "    print('Begin')\n",
    "    q = Query(name)\n",
    "    yield q\n",
    "    print('End')\n",
    "\n",
    "\n",
    "with create_query('123') as q:\n",
    "    q.query()"
   ],
   "metadata": {
    "collapsed": false,
    "ExecuteTime": {
     "end_time": "2024-01-04T13:09:48.916878500Z",
     "start_time": "2024-01-04T13:09:48.765525500Z"
    }
   },
   "id": "3c62582b1cb94764",
   "execution_count": 13
  },
  {
   "cell_type": "code",
   "outputs": [
    {
     "name": "stdout",
     "output_type": "stream",
     "text": [
      "<hi>\n",
      "title\n",
      "<hi>\n"
     ]
    }
   ],
   "source": [
    "@contextmanager\n",
    "def hi(name):\n",
    "    print('<%s>' % name)\n",
    "    yield\n",
    "    print('<%s>' % name)\n",
    "\n",
    "\n",
    "with hi('hi'):\n",
    "    print('title')"
   ],
   "metadata": {
    "collapsed": false,
    "ExecuteTime": {
     "end_time": "2024-01-04T12:58:45.436443900Z",
     "start_time": "2024-01-04T12:58:45.398768600Z"
    }
   },
   "id": "d990ab3d8ca0d9e2",
   "execution_count": 9
  },
  {
   "cell_type": "code",
   "outputs": [],
   "source": [
    "# closing 将对象变为上下文对象\n",
    "from contextlib import closing\n",
    "from urllib.request import urlopen\n",
    "\n",
    "with closing(urlopen('https://www.python.org')) as page:\n",
    "    for line in page:\n",
    "        print(line)"
   ],
   "metadata": {
    "collapsed": false
   },
   "id": "4c30c3b4451f2440",
   "execution_count": null
  },
  {
   "cell_type": "code",
   "outputs": [],
   "source": [
    "class Query(object):\n",
    "\n",
    "    def __init__(self, name):\n",
    "        self.name = name\n",
    "\n",
    "    def query(self):\n",
    "        print('Query info about %s...' % self.name)\n",
    "\n",
    "\n",
    "def miaoinit(self, *args):\n",
    "    self.__obj__ = self.__class__.__pfun__(*args)\n",
    "\n",
    "\n",
    "def miaoenter(self):\n",
    "    return next(self.__obj__)\n",
    "\n",
    "\n",
    "def miaoexit(self, exc_type, exc_value, traceback):\n",
    "    try:\n",
    "\n",
    "        next(self.__obj__)\n",
    "\n",
    "    except StopIteration as e:\n",
    "\n",
    "        print('StopIteration', e.value)\n",
    "\n",
    "\n",
    "def miao_query(fun):\n",
    "    mc = type('miao_class', (object,), dict(__init__=miaoinit, __enter__=miaoenter, __exit__=miaoexit))\n",
    "\n",
    "    mc.__pfun__ = fun\n",
    "\n",
    "    return mc\n",
    "\n",
    "\n",
    "@miao_query\n",
    "def create_query(name):\n",
    "    q = Query(name)\n",
    "\n",
    "    yield q\n",
    "\n",
    "    return 'Done'\n",
    "\n",
    "\n",
    "with create_query('Bob') as q:\n",
    "    print('Create_query call query', q)\n",
    "\n",
    "    q.query()"
   ],
   "metadata": {
    "collapsed": false
   },
   "id": "69067214b73f3fb2"
  }
 ],
 "metadata": {
  "kernelspec": {
   "display_name": "Python 3",
   "language": "python",
   "name": "python3"
  },
  "language_info": {
   "codemirror_mode": {
    "name": "ipython",
    "version": 2
   },
   "file_extension": ".py",
   "mimetype": "text/x-python",
   "name": "python",
   "nbconvert_exporter": "python",
   "pygments_lexer": "ipython2",
   "version": "2.7.6"
  }
 },
 "nbformat": 4,
 "nbformat_minor": 5
}
