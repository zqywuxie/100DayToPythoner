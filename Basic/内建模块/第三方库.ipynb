{
 "cells": [
  {
   "cell_type": "markdown",
   "source": [
    "# chardet 判断编码格式"
   ],
   "metadata": {
    "collapsed": false
   },
   "id": "528cd3156cef46bf"
  },
  {
   "cell_type": "code",
   "execution_count": 3,
   "id": "initial_id",
   "metadata": {
    "collapsed": true,
    "ExecuteTime": {
     "end_time": "2024-01-04T13:23:03.694144800Z",
     "start_time": "2024-01-04T13:23:03.680803700Z"
    }
   },
   "outputs": [
    {
     "data": {
      "text/plain": "{'encoding': 'utf-8', 'confidence': 0.87625, 'language': ''}"
     },
     "execution_count": 3,
     "metadata": {},
     "output_type": "execute_result"
    }
   ],
   "source": [
    "import chardet\n",
    "\n",
    "chardet.detect(b'Hello, world!') #{'encoding': 'ascii', 'confidence': 1.0, 'language': ''}\n",
    "\n",
    "data = '你好啊'.encode('utf-8')\n",
    "chardet.detect(data) #{'encoding': 'utf-8', 'confidence': 0.87625, 'language': ''}"
   ]
  },
  {
   "cell_type": "code",
   "outputs": [],
   "source": [],
   "metadata": {
    "collapsed": false
   },
   "id": "87c97c97d1e9a48f"
  }
 ],
 "metadata": {
  "kernelspec": {
   "display_name": "Python 3",
   "language": "python",
   "name": "python3"
  },
  "language_info": {
   "codemirror_mode": {
    "name": "ipython",
    "version": 2
   },
   "file_extension": ".py",
   "mimetype": "text/x-python",
   "name": "python",
   "nbconvert_exporter": "python",
   "pygments_lexer": "ipython2",
   "version": "2.7.6"
  }
 },
 "nbformat": 4,
 "nbformat_minor": 5
}
