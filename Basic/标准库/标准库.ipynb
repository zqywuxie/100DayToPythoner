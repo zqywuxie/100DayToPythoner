{
 "cells": [
  {
   "cell_type": "code",
   "execution_count": 2,
   "id": "initial_id",
   "metadata": {
    "collapsed": true,
    "ExecuteTime": {
     "end_time": "2024-01-03T14:32:24.780735900Z",
     "start_time": "2024-01-03T14:32:24.711250800Z"
    }
   },
   "outputs": [
    {
     "data": {
      "text/plain": "0"
     },
     "execution_count": 2,
     "metadata": {},
     "output_type": "execute_result"
    }
   ],
   "source": [
    "import os\n",
    "\n",
    "os.getcwd()\n",
    "os.system('ipconfig')"
   ]
  },
  {
   "cell_type": "code",
   "outputs": [],
   "source": [
    "import shutil\n",
    "\n",
    "# 日常文件的操作\n",
    "shutil.copyfile()\n",
    "shutil.move()"
   ],
   "metadata": {
    "collapsed": false
   },
   "id": "de6b676c0f0d9b3c"
  },
  {
   "cell_type": "code",
   "outputs": [
    {
     "name": "stdout",
     "output_type": "stream",
     "text": [
      "['demo.py']\n"
     ]
    }
   ],
   "source": [
    "#文件通配符\n",
    "import glob\n",
    "\n",
    "print(glob.glob('*.py'))  # 通过通配符搜索创建文件列表的函数"
   ],
   "metadata": {
    "collapsed": false,
    "ExecuteTime": {
     "end_time": "2024-01-03T14:35:19.456842900Z",
     "start_time": "2024-01-03T14:35:19.394337Z"
    }
   },
   "id": "2ac91388572ddb8",
   "execution_count": 3
  },
  {
   "cell_type": "code",
   "outputs": [
    {
     "name": "stdout",
     "output_type": "stream",
     "text": [
      "['C:\\\\Users\\\\wuxie\\\\AppData\\\\Local\\\\Programs\\\\Python\\\\Python39\\\\lib\\\\site-packages\\\\ipykernel_launcher.py', '-f', 'C:\\\\Users\\\\wuxie\\\\AppData\\\\Roaming\\\\jupyter\\\\runtime\\\\kernel-8241c6c4-4e50-4a87-a17e-9fae9d50ee6d.json']\n",
      "hello world"
     ]
    },
    {
     "name": "stderr",
     "output_type": "stream",
     "text": [
      "Warning, log file not found starting a new one\n"
     ]
    },
    {
     "data": {
      "text/plain": "11"
     },
     "execution_count": 7,
     "metadata": {},
     "output_type": "execute_result"
    }
   ],
   "source": [
    "#命令行参数\n",
    "import sys\n",
    "print(sys.argv)\n",
    "sys.stderr.write('Warning, log file not found starting a new one\\n')\n",
    "sys.stdout.write('hello world')"
   ],
   "metadata": {
    "collapsed": false,
    "ExecuteTime": {
     "end_time": "2024-01-03T14:37:08.722667Z",
     "start_time": "2024-01-03T14:37:08.710424100Z"
    }
   },
   "id": "72e29e07ce519d54",
   "execution_count": 7
  },
  {
   "cell_type": "code",
   "outputs": [
    {
     "name": "stdout",
     "output_type": "stream",
     "text": [
      "01-03-24. 03 Jan 2024 is a Wednesday on the 03 day of January.\n",
      "2024-01-03\n"
     ]
    }
   ],
   "source": [
    "# 日期和时间\n",
    "\n",
    "from datetime import date\n",
    "now = date.today()\n",
    "print(now.strftime(\"%m-%d-%y. %d %b %Y is a %A on the %d day of %B.\"))\n"
   ],
   "metadata": {
    "collapsed": false,
    "ExecuteTime": {
     "end_time": "2024-01-03T14:38:37.065809Z",
     "start_time": "2024-01-03T14:38:37.047744900Z"
    }
   },
   "id": "7c3a93f6170deddc",
   "execution_count": 12
  },
  {
   "cell_type": "code",
   "outputs": [
    {
     "name": "stdout",
     "output_type": "stream",
     "text": [
      "41\n",
      "37\n",
      "b'witch which has which witches wrist watch'\n"
     ]
    }
   ],
   "source": [
    "# 数据压缩\n",
    "import zlib\n",
    "s = b'witch which has which witches wrist watch'\n",
    "print(len(s))\n",
    "t = zlib.compress(s)\n",
    "print(len(t))\n",
    "\n",
    "res = zlib.decompress(t)\n",
    "print(res)\n"
   ],
   "metadata": {
    "collapsed": false,
    "ExecuteTime": {
     "end_time": "2024-01-03T14:41:16.095130400Z",
     "start_time": "2024-01-03T14:41:16.083425Z"
    }
   },
   "id": "3e88bf72cfc9e74",
   "execution_count": 17
  },
  {
   "cell_type": "markdown",
   "source": [
    "# 标准库第二部分"
   ],
   "metadata": {
    "collapsed": false
   },
   "id": "e99410ac46e2c7a"
  },
  {
   "cell_type": "code",
   "outputs": [
    {
     "name": "stdout",
     "output_type": "stream",
     "text": [
      "{'a', 'c', 'd', 'e', 'f', 'g', ...}\n",
      "[[[['black', 'cyan'], 'white', ['green', 'red']], [['magenta', 'yellow'], 'blue']]]\n",
      "[[[['black', 'cyan'],\n",
      "   'white',\n",
      "   ['green', 'red']],\n",
      "  [['magenta', 'yellow'],\n",
      "   'blue']]]\n"
     ]
    }
   ],
   "source": [
    "import reprlib\n",
    "\n",
    "# 缩略显示大型或深层嵌套的容器对象\n",
    "print(reprlib.repr(set('supercalifragilisticexpialidocious')))\n",
    "\n",
    "import pprint\n",
    "t = [[[['black', 'cyan'], 'white', ['green', 'red']], [['magenta',\n",
    "    'yellow'], 'blue']]]\n",
    "print(t)\n",
    "pprint.pprint(t, width=30)\n"
   ],
   "metadata": {
    "collapsed": false,
    "ExecuteTime": {
     "end_time": "2024-01-03T14:43:40.426964800Z",
     "start_time": "2024-01-03T14:43:40.412669100Z"
    }
   },
   "id": "530f7d070d1020fc",
   "execution_count": 21
  },
  {
   "cell_type": "code",
   "outputs": [],
   "source": [],
   "metadata": {
    "collapsed": false
   },
   "id": "ecd73abc968341d2"
  }
 ],
 "metadata": {
  "kernelspec": {
   "display_name": "Python 3",
   "language": "python",
   "name": "python3"
  },
  "language_info": {
   "codemirror_mode": {
    "name": "ipython",
    "version": 2
   },
   "file_extension": ".py",
   "mimetype": "text/x-python",
   "name": "python",
   "nbconvert_exporter": "python",
   "pygments_lexer": "ipython2",
   "version": "2.7.6"
  }
 },
 "nbformat": 4,
 "nbformat_minor": 5
}
