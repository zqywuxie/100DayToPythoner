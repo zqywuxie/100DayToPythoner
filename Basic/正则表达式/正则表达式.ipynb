{
 "cells": [
  {
   "cell_type": "markdown",
   "source": [
    "# 正则表达式\n",
    "[0-9a-zA-Z\\_]可以匹配一个数字、字母或者下划线；\n",
    "\n",
    "[0-9a-zA-Z\\_]+可以匹配至少由一个数字、字母或者下划线组成的字符串，比如'a100'，'0_Z'，'Py3000'等等；\n",
    "\n",
    "[a-zA-Z\\_][0-9a-zA-Z\\_]*可以匹配由字母或下划线开头，后接任意个由一个数字、字母或者下划线组成的字符串，也就是Python合法的变量；\n",
    "\n",
    "[a-zA-Z\\_][0-9a-zA-Z\\_]{0, 19}更精确地限制了变量的长度是1-20个字符（前面1个字符+后面最多19个字符）\n",
    "\n",
    "^表示行的开头，^\\d表示必须以数字开头。\n",
    "\n",
    "$表示行的结束，\\d$表示必须以数字结束。\n",
    "\n",
    "\\* 0或多，+ 1或多"
   ],
   "metadata": {
    "collapsed": false
   },
   "id": "af3dc5c9ea9b60ae"
  },
  {
   "cell_type": "code",
   "outputs": [
    {
     "name": "stdout",
     "output_type": "stream",
     "text": [
      "<re.Match object; span=(0, 9), match='010-12345'>\n",
      "['a', 'b', 'c', 'd']\n",
      "('010', '12345', '2')\n",
      "010-12345-2\n",
      "010\n",
      "12345\n",
      "2\n"
     ]
    }
   ],
   "source": [
    "# re模块\n",
    "import re\n",
    "\n",
    "res = re.match(r'^\\d{3}\\-\\d{3,8}$', '010-12345')\n",
    "print(res)  # <re.Match object; span=(0, 9), match='010-12345'>\n",
    "\n",
    "# 切片字符串\n",
    "print(re.split(r'[\\s\\,;;]+', 'a,b;; c  d'))  # ['a', 'b', 'c', 'd']\n",
    "\n",
    "# 分组\n",
    "# 用()表示的就是要提取的分组（Group）\n",
    "m = re.match(r'^(\\d{3})-(\\d{3,8})-(\\d)$', '010-12345-2')\n",
    "print(m.groups())\n",
    "print(m.group(0))  # 匹配字符串\n",
    "print(m.group(1))  # 第一个匹配模式的字符串\n",
    "print(m.group(2))  # 第二个\n",
    "print(m.group(3))  # 第二个"
   ],
   "metadata": {
    "collapsed": false,
    "ExecuteTime": {
     "end_time": "2024-01-04T10:51:24.449040Z",
     "start_time": "2024-01-04T10:51:24.432530300Z"
    }
   },
   "id": "b60380c5c2c56e67",
   "execution_count": 15
  },
  {
   "cell_type": "code",
   "outputs": [
    {
     "data": {
      "text/plain": "('1023', '00')"
     },
     "execution_count": 17,
     "metadata": {},
     "output_type": "execute_result"
    }
   ],
   "source": [
    "# 贪婪匹配\n",
    "re.match(r'^(\\d+)(0*)$', '102300').groups()  # ('102300', '')，默认贪婪匹配第一个模式就直接而匹配完了\n",
    "re.match(r'^(\\d+?)(0*)$', '102300').groups()  # ('1023', '00')，默认贪婪匹配第一个模式就直接而匹配完了"
   ],
   "metadata": {
    "collapsed": false,
    "ExecuteTime": {
     "end_time": "2024-01-04T10:52:14.162051400Z",
     "start_time": "2024-01-04T10:52:14.137536800Z"
    }
   },
   "id": "8d497a9008677828",
   "execution_count": 17
  },
  {
   "cell_type": "code",
   "outputs": [
    {
     "name": "stdout",
     "output_type": "stream",
     "text": [
      "ok\n"
     ]
    }
   ],
   "source": [
    "# 编写判断邮箱的正则\n",
    "# -*- coding: utf-8 -*-\n",
    "import re\n",
    "\n",
    "# someone@gmail.com\n",
    "# bill.gates@microsoft.com\n",
    "\n",
    "re_match = re.compile(r'^\\w+\\.?\\w+@\\w+\\.com$')\n",
    "\n",
    "\n",
    "def is_valid_email(addr):\n",
    "    if re.match(re_match, addr):\n",
    "        return True\n",
    "    return False\n",
    "\n",
    "\n",
    "# 测试:\n",
    "assert is_valid_email('someone@gmail.com')\n",
    "assert is_valid_email('bill.gates@microsoft.com')\n",
    "assert not is_valid_email('bob#example.com')\n",
    "assert not is_valid_email('mr-bob@example.com')\n",
    "print('ok')"
   ],
   "metadata": {
    "collapsed": false,
    "ExecuteTime": {
     "end_time": "2024-01-04T10:58:49.546634300Z",
     "start_time": "2024-01-04T10:58:49.541044500Z"
    }
   },
   "id": "fe59d02af693dbd9",
   "execution_count": 22
  },
  {
   "cell_type": "code",
   "outputs": [
    {
     "ename": "AssertionError",
     "evalue": "",
     "output_type": "error",
     "traceback": [
      "\u001B[1;31m---------------------------------------------------------------------------\u001B[0m",
      "\u001B[1;31mAssertionError\u001B[0m                            Traceback (most recent call last)",
      "Cell \u001B[1;32mIn[28], line 18\u001B[0m\n\u001B[0;32m     16\u001B[0m \u001B[38;5;66;03m# 测试:\u001B[39;00m\n\u001B[0;32m     17\u001B[0m \u001B[38;5;28;01massert\u001B[39;00m name_of_email(\u001B[38;5;124m'\u001B[39m\u001B[38;5;124m<Tom Paris> tom@voyager.org\u001B[39m\u001B[38;5;124m'\u001B[39m) \u001B[38;5;241m==\u001B[39m \u001B[38;5;124m'\u001B[39m\u001B[38;5;124mTom Paris\u001B[39m\u001B[38;5;124m'\u001B[39m\n\u001B[1;32m---> 18\u001B[0m \u001B[38;5;28;01massert\u001B[39;00m name_of_email(\u001B[38;5;124m'\u001B[39m\u001B[38;5;124mtom@voyager.org\u001B[39m\u001B[38;5;124m'\u001B[39m) \u001B[38;5;241m==\u001B[39m \u001B[38;5;124m'\u001B[39m\u001B[38;5;124mtom\u001B[39m\u001B[38;5;124m'\u001B[39m\n\u001B[0;32m     19\u001B[0m \u001B[38;5;28;01massert\u001B[39;00m name_of_email(\u001B[38;5;124m'\u001B[39m\u001B[38;5;124mbob@example.com\u001B[39m\u001B[38;5;124m'\u001B[39m) \u001B[38;5;241m==\u001B[39m \u001B[38;5;124m'\u001B[39m\u001B[38;5;124mbob\u001B[39m\u001B[38;5;124m'\u001B[39m\n\u001B[0;32m     20\u001B[0m \u001B[38;5;28mprint\u001B[39m(\u001B[38;5;124m'\u001B[39m\u001B[38;5;124mok\u001B[39m\u001B[38;5;124m'\u001B[39m)\n",
      "\u001B[1;31mAssertionError\u001B[0m: "
     ]
    }
   ],
   "source": [
    "# 案例2 可以提取出带名字的Email地址：\n",
    "\n",
    "# <Tom Paris> tom@voyager.org => Tom Paris\n",
    "# bob@example.com => bob\n",
    "# -*- coding: utf-8 -*-\n",
    "import re\n",
    "\n",
    "res_match = re.compile(r'<?([\\w\\s]+)>?[\\w\\s]*@\\w+.\\w+$')\n",
    "# re_match = re.compile(r'<?([\\w\\s]+)>?[\\w\\s]*@(\\w+\\.org)')\n",
    "def name_of_email(addr):\n",
    "    if re.match(res_match,addr):\n",
    "        return re.match(res_match,addr).group(1)\n",
    "    return None\n",
    "\n",
    "\n",
    "# 测试:\n",
    "assert name_of_email('<Tom Paris> tom@voyager.org') == 'Tom Paris'\n",
    "assert name_of_email('tom@voyager.org') == 'tom'\n",
    "assert name_of_email('bob@example.com') == 'bob'\n",
    "print('ok')"
   ],
   "metadata": {
    "collapsed": false,
    "ExecuteTime": {
     "end_time": "2024-01-04T11:04:16.275966100Z",
     "start_time": "2024-01-04T11:04:16.242631600Z"
    }
   },
   "id": "fde750ce69b07052",
   "execution_count": 28
  },
  {
   "cell_type": "code",
   "outputs": [],
   "source": [],
   "metadata": {
    "collapsed": false
   },
   "id": "28a122e7c5174efc"
  }
 ],
 "metadata": {
  "kernelspec": {
   "display_name": "Python 3",
   "language": "python",
   "name": "python3"
  },
  "language_info": {
   "codemirror_mode": {
    "name": "ipython",
    "version": 2
   },
   "file_extension": ".py",
   "mimetype": "text/x-python",
   "name": "python",
   "nbconvert_exporter": "python",
   "pygments_lexer": "ipython2",
   "version": "2.7.6"
  }
 },
 "nbformat": 4,
 "nbformat_minor": 5
}
