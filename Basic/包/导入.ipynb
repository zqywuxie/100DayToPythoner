{
 "cells": [
  {
   "cell_type": "markdown",
   "source": [
    "# 包的引用问题"
   ],
   "metadata": {
    "collapsed": false
   },
   "id": "5ae7ad5a6637d10b"
  },
  {
   "cell_type": "code",
   "outputs": [],
   "source": [
    "# 引入单个模块，必须通过全面来引用\n",
    "import sound.effects.echo\n",
    "\n",
    "sound.effects.echo.echofilter(input, output, delay=0.7, atten=4)\n",
    "\n",
    "from sound.effects import echo\n",
    "\n",
    "echo.echofilter(input, output, delay=0.7, atten=4)\n",
    "\n",
    "# 导入所需的函数或者变量,可以直接进行使用\n",
    "from sound.effects.echo import echofilter\n",
    "\n",
    "echofilter(input, output, delay=0.7, atten=4)\n",
    "\n",
    "# 这将花费很长的时间，并且可能会产生你不想要的副作用\n",
    "from sound.effects import *\n",
    "\n",
    "解决方案：提供包的显式索引\n",
    "__all__ = [\"echo\", \"surround\", \"reverse\"]\n",
    "# 这意味着 from sound.effects import * 将导入 sound.effects 包的三个命名子模块。\n",
    "#如果本地添加了一个echo函数，则不会导入echo子模块，因为被函数所遮挡\n",
    "\n",
    "__all__ = [\n",
    "    \"echo\",      # refers to the 'echo.py' file\n",
    "    \"surround\",  # refers to the 'surround.py' file\n",
    "    \"reverse\",   # !!! refers to the 'reverse' function now !!!\n",
    "]\n",
    "\n",
    "def reverse(msg: str):  # <-- this name shadows the 'reverse.py' submodule\n",
    "    return msg[::-1]    #     in the case of a 'from sound.effects import *'"
   ],
   "metadata": {
    "collapsed": false
   },
   "id": "2496858617014d76"
  }
 ],
 "metadata": {
  "kernelspec": {
   "display_name": "Python 3",
   "language": "python",
   "name": "python3"
  },
  "language_info": {
   "codemirror_mode": {
    "name": "ipython",
    "version": 2
   },
   "file_extension": ".py",
   "mimetype": "text/x-python",
   "name": "python",
   "nbconvert_exporter": "python",
   "pygments_lexer": "ipython2",
   "version": "2.7.6"
  }
 },
 "nbformat": 4,
 "nbformat_minor": 5
}
