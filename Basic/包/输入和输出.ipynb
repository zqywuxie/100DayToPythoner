{
 "cells": [
  {
   "cell_type": "code",
   "outputs": [
    {
     "data": {
      "text/plain": "'tim likes $what'"
     },
     "execution_count": 9,
     "metadata": {},
     "output_type": "execute_result"
    }
   ],
   "source": [
    "from string import Template\n",
    "\n",
    "s = Template('$who likes $what')\n",
    "s.substitute(who='tim', what='kung pao')\n",
    "\n",
    "d = dict(who='tim', test='23')\n",
    "# Template('Give $who $100').substitute(d)\n",
    "# 类型不对，100错误\n",
    "\n",
    "# \n",
    "# \n",
    "# Template('$who likes $what').substitute(d)\n",
    "# 差参数\n",
    "\n",
    "# \n",
    "# \n",
    "# \n",
    "Template('$who likes $what').safe_substitute(d)\n",
    "#safe 安全 'tim likes $what'"
   ],
   "metadata": {
    "collapsed": false,
    "ExecuteTime": {
     "end_time": "2024-01-03T08:51:10.723997400Z",
     "start_time": "2024-01-03T08:51:10.693462100Z"
    }
   },
   "id": "c8b1d8511ef31b40",
   "execution_count": 9
  },
  {
   "cell_type": "markdown",
   "source": [
    "# 格式化字符串"
   ],
   "metadata": {
    "collapsed": false
   },
   "id": "e80936e965bec82b"
  },
  {
   "cell_type": "code",
   "outputs": [
    {
     "name": "stdout",
     "output_type": "stream",
     "text": [
      "The value of pi is approximately 3.142.\n",
      "My hovercraft is full of 大家.\n",
      "My hovercraft is full of '大家'.\n",
      "My hovercraft is full of '\\u5927\\u5bb6'.\n",
      "Debugging roaches count=13 area='living room'\n"
     ]
    }
   ],
   "source": [
    "import math\n",
    "\n",
    "print(f'The value of pi is approximately {math.pi:.3f}.')  #：冒号后面设置格式化值\n",
    "\n",
    "animals = '大家'\n",
    "\n",
    "#repr 返回一个字符，包含一个对象的可打印形式\n",
    "\n",
    "print(f'My hovercraft is full of {animals!s}.')\n",
    "print(f'My hovercraft is full of {animals!r}.')  # ！r使用repr,!a使用ascii，！s使用str()\n",
    "print(f'My hovercraft is full of {animals!a}.')  # ！r使用repr,!a使用ascii，！s使用str()\n",
    "\n",
    "#使用= 说明可以把表达式扩展为表达式文本\n",
    "bugs = 'roaches'\n",
    "count = 13\n",
    "area = 'living room'\n",
    "print(f'Debugging {bugs=} {count=} {area=}')  #Debugging bugs='roaches' count=13 area='living room'"
   ],
   "metadata": {
    "collapsed": false,
    "ExecuteTime": {
     "end_time": "2024-01-03T08:55:12.162424300Z",
     "start_time": "2024-01-03T08:55:12.154905300Z"
    }
   },
   "id": "c37de17577a93fe9",
   "execution_count": 15
  },
  {
   "cell_type": "code",
   "outputs": [
    {
     "name": "stdout",
     "output_type": "stream",
     "text": [
      "The story of Bill, Manfred, and Georg.\n",
      "Jack: 4098; Sjoerd: 4127; Dcab: 8637678\n",
      "Jack: 4098; Sjoerd: 4127; Dcab: 8637678\n"
     ]
    },
    {
     "ename": "KeyError",
     "evalue": "'name'",
     "output_type": "error",
     "traceback": [
      "\u001B[1;31m---------------------------------------------------------------------------\u001B[0m",
      "\u001B[1;31mKeyError\u001B[0m                                  Traceback (most recent call last)",
      "Cell \u001B[1;32mIn[34], line 26\u001B[0m\n\u001B[0;32m     22\u001B[0m person \u001B[38;5;241m=\u001B[39m Person(\u001B[38;5;124m'\u001B[39m\u001B[38;5;124mAlice\u001B[39m\u001B[38;5;124m'\u001B[39m, \u001B[38;5;241m25\u001B[39m)\n\u001B[0;32m     24\u001B[0m \u001B[38;5;66;03m# 将 person 对象的属性解包为关键字参数，传递给 format() 函数  \u001B[39;00m\n\u001B[0;32m     25\u001B[0m \u001B[38;5;66;03m# vars() 是一个内置函数，用于返回一个对象的 __dict__ 属性，即该对象的属性名和值组成的字典。\u001B[39;00m\n\u001B[1;32m---> 26\u001B[0m \u001B[38;5;28mprint\u001B[39m(\u001B[38;5;124;43m'\u001B[39;49m\u001B[38;5;124;43mName: \u001B[39;49m\u001B[38;5;132;43;01m{name}\u001B[39;49;00m\u001B[38;5;124;43m; Age: \u001B[39;49m\u001B[38;5;132;43;01m{age}\u001B[39;49;00m\u001B[38;5;124;43m'\u001B[39;49m\u001B[38;5;241;43m.\u001B[39;49m\u001B[43mformat\u001B[49m\u001B[43m(\u001B[49m\u001B[38;5;28;43mvars\u001B[39;49m\u001B[43m(\u001B[49m\u001B[43mperson\u001B[49m\u001B[43m)\u001B[49m\u001B[43m)\u001B[49m)\n\u001B[0;32m     27\u001B[0m \u001B[38;5;66;03m# print(vars(person))\u001B[39;00m\n",
      "\u001B[1;31mKeyError\u001B[0m: 'name'"
     ]
    }
   ],
   "source": [
    "# formate 方法\n",
    "# 使用下标来确定位置，和关键字参数名引用值\n",
    "print('The story of {0}, {1}, and {other}.'.format('Bill', 'Manfred',\n",
    "                                                   other='Georg'))\n",
    "\n",
    "# 通过传递字典，以及通过[]来访问\n",
    "table = {'Sjoerd': '4127', 'Jack': 4098, 'Dcab': 8637678}\n",
    "print('Jack: {0[Jack]:d}; Sjoerd: {0[Sjoerd]:s}; '\n",
    "      'Dcab: {0[Dcab]:d}'.format(table))\n",
    "\n",
    "print('Jack: {Jack:d}; Sjoerd: {Sjoerd:s}; Dcab: {Dcab:d}'.format(**table))  #直接通过**，作为关键字参数直接获取key\n",
    "\n",
    "\n",
    "#**关键字参数和vars结合使用\n",
    "\n",
    "class Person:\n",
    "    def __init__(self, name, age):\n",
    "        self.name = name\n",
    "        self.age = age\n",
    "\n",
    "\n",
    "person = Person('Alice', 25)\n",
    "\n",
    "# 将 person 对象的属性解包为关键字参数，传递给 format() 函数  \n",
    "# vars() 是一个内置函数，用于返回一个对象的 __dict__ 属性，即该对象的属性名和值组成的字典。\n",
    "print('Name: {name}; Age: {age}'.format(**vars(person)))\n",
    "# print(vars(person))"
   ],
   "metadata": {
    "collapsed": false,
    "ExecuteTime": {
     "end_time": "2024-01-03T10:33:25.672931400Z",
     "start_time": "2024-01-03T10:33:25.638472700Z"
    }
   },
   "id": "76e4d16468a73ec8",
   "execution_count": 34
  },
  {
   "cell_type": "markdown",
   "source": [
    "# 手动格式化字符串"
   ],
   "metadata": {
    "collapsed": false
   },
   "id": "bc8c73201250f2cd"
  },
  {
   "cell_type": "code",
   "outputs": [
    {
     "name": "stdout",
     "output_type": "stream",
     "text": [
      " 1   1    1\n",
      " 2   4    8\n",
      " 3   9   27\n",
      " 4  16   64\n",
      " 5  25  125\n",
      " 6  36  216\n",
      " 7  49  343\n",
      " 8  64  512\n",
      " 9  81  729\n",
      "10 100 1000\n",
      "  hello   \n",
      "--hello---\n"
     ]
    },
    {
     "data": {
      "text/plain": "'-003.14'"
     },
     "execution_count": 30,
     "metadata": {},
     "output_type": "execute_result"
    }
   ],
   "source": [
    "for x in range(1, 11):\n",
    "    print(repr(x).rjust(2), repr(x * x).rjust(3), end=' ')\n",
    "    # Note use of 'end' on previous line\n",
    "    print(repr(x * x * x).rjust(4))\n",
    "\n",
    "#字符串对象的 str.rjust() 方法通过在左侧填充空格，对给定宽度字段中的字符串进行右对齐\n",
    "# ljust,center\n",
    "s = \"hello\"\n",
    "print(s.center(10))  # 输出:  \"  hello  \"  \n",
    "print(s.center(10, \"-\"))  # 输出: \"--hello--\"\n",
    "\n",
    "# 另一种方法是 str.zfill() ，该方法在数字字符串左边填充零，且能识别正负号：\n",
    "'-3.14'.zfill(7)"
   ],
   "metadata": {
    "collapsed": false,
    "ExecuteTime": {
     "end_time": "2024-01-03T09:06:29.864671800Z",
     "start_time": "2024-01-03T09:06:29.834106Z"
    }
   },
   "id": "6238d33f1cf4d650",
   "execution_count": 30
  },
  {
   "cell_type": "markdown",
   "source": [
    "# 读写文件"
   ],
   "metadata": {
    "collapsed": false
   },
   "id": "710a6a025d0761c3"
  },
  {
   "cell_type": "code",
   "outputs": [
    {
     "ename": "TypeError",
     "evalue": "TextIOWrapper.write() takes exactly one argument (0 given)",
     "output_type": "error",
     "traceback": [
      "\u001B[1;31m---------------------------------------------------------------------------\u001B[0m",
      "\u001B[1;31mTypeError\u001B[0m                                 Traceback (most recent call last)",
      "Cell \u001B[1;32mIn[39], line 4\u001B[0m\n\u001B[0;32m      2\u001B[0m \u001B[38;5;66;03m# 模式后面加上b表示二进制，不能指定编码格式\u001B[39;00m\n\u001B[0;32m      3\u001B[0m f\u001B[38;5;241m.\u001B[39mreadline()\n\u001B[1;32m----> 4\u001B[0m \u001B[43mf\u001B[49m\u001B[38;5;241;43m.\u001B[39;49m\u001B[43mwrite\u001B[49m\u001B[43m(\u001B[49m\u001B[43m)\u001B[49m\n",
      "\u001B[1;31mTypeError\u001B[0m: TextIOWrapper.write() takes exactly one argument (0 given)"
     ]
    }
   ],
   "source": [
    "f = open('demo.txt', 'r', encoding=\"utf-8\") # 编码根据当前文本域\n",
    "# 模式后面加上b表示二进制，不能指定编码格式\n",
    "f.readline()\n",
    "f.write() # 返回写入的字符数；写入其他类型的数据的时候需要转换为字符串或者二进制数据\n",
    "\n",
    "f.tell() #返回整数，给出文件对象在文件中的当前位置，表示为二进制模式下时从文件开始的字节数，以及文本模式下的意义不明的数字。\n",
    "\n",
    "# f.seek(offset, whence（参考点 0开头，1当前位置，2尾部）) # 设置文件对象位置，光标位置"
   ],
   "metadata": {
    "collapsed": false,
    "ExecuteTime": {
     "end_time": "2024-01-03T13:25:23.421470800Z",
     "start_time": "2024-01-03T13:25:23.386152100Z"
    }
   },
   "id": "9a3a5dccf98573f9",
   "execution_count": 39
  },
  {
   "cell_type": "markdown",
   "source": [
    "# json保存结构化数据"
   ],
   "metadata": {
    "collapsed": false
   },
   "id": "3c6b589bf52478d3"
  },
  {
   "cell_type": "code",
   "outputs": [
    {
     "data": {
      "text/plain": "'[1, \"simple\", \"list\"]'"
     },
     "execution_count": 40,
     "metadata": {},
     "output_type": "execute_result"
    }
   ],
   "source": [
    "import json\n",
    "x = [1, 'simple', 'list']\n",
    "json.dumps(x) #编码数据为json\n",
    "json.loads() # 编码json数据为python对象  \n",
    "# +s 直接转换数据，不加s从文件里面获取数据转换"
   ],
   "metadata": {
    "collapsed": false,
    "ExecuteTime": {
     "end_time": "2024-01-03T13:28:01.710437Z",
     "start_time": "2024-01-03T13:28:01.693146500Z"
    }
   },
   "id": "3c733f38ced496ec",
   "execution_count": 40
  },
  {
   "cell_type": "code",
   "outputs": [],
   "source": [],
   "metadata": {
    "collapsed": false
   },
   "id": "800ffd9582b8405"
  }
 ],
 "metadata": {
  "kernelspec": {
   "display_name": "Python 3",
   "language": "python",
   "name": "python3"
  },
  "language_info": {
   "codemirror_mode": {
    "name": "ipython",
    "version": 2
   },
   "file_extension": ".py",
   "mimetype": "text/x-python",
   "name": "python",
   "nbconvert_exporter": "python",
   "pygments_lexer": "ipython2",
   "version": "2.7.6"
  }
 },
 "nbformat": 4,
 "nbformat_minor": 5
}
