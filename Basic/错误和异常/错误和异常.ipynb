{
 "cells": [
  {
   "cell_type": "markdown",
   "source": [
    "# 异常的处理"
   ],
   "metadata": {
    "collapsed": false
   },
   "id": "c615b8ebd86f4497"
  },
  {
   "cell_type": "code",
   "outputs": [],
   "source": [
    "while True:\n",
    "    try:\n",
    "        x = int(input(\"Please enter a number: \"))\n",
    "        break\n",
    "    except (ValueError, TypeError):\n",
    "        print(\"Oops!  That was no valid number.  Try again...\")"
   ],
   "metadata": {
    "collapsed": false
   },
   "id": "31caa46c07efdd5c"
  },
  {
   "cell_type": "code",
   "outputs": [
    {
     "name": "stdout",
     "output_type": "stream",
     "text": [
      "123\n",
      "123\n"
     ]
    }
   ],
   "source": [
    "try:\n",
    "    raise Exception('spam', 'eggs')\n",
    "    # pass\n",
    "except Exception as inst:\n",
    "    print(type(inst))  # the exception type\n",
    "    print(inst.args)  # arguments stored in .args\n",
    "    print(inst)  # __str__ allows args to be printed directly,\n",
    "    # but may be overridden in exception subclasses\n",
    "    x, y = inst.args  # unpack args\n",
    "    print('x =', x)\n",
    "    print('y =', y)\n",
    "else:\n",
    "    print('123')\n",
    "finally:\n",
    "    print('123')\n",
    "\n",
    "# else用作于没有报错的流程，finally有无报错都会到达"
   ],
   "metadata": {
    "collapsed": false,
    "ExecuteTime": {
     "end_time": "2024-01-03T13:37:48.021874700Z",
     "start_time": "2024-01-03T13:37:47.996293500Z"
    }
   },
   "id": "8bbf61216f268256",
   "execution_count": 10
  },
  {
   "cell_type": "markdown",
   "source": [
    "# 异常链\n",
    "未处理的异常发生在except部分内，会被附加在处理的异常上，也会包括在错误信息中\n"
   ],
   "metadata": {
    "collapsed": false
   },
   "id": "d46c6dc5e83f4a71"
  },
  {
   "cell_type": "code",
   "outputs": [
    {
     "ename": "RuntimeError",
     "evalue": "unable to handle error",
     "output_type": "error",
     "traceback": [
      "\u001B[1;31m---------------------------------------------------------------------------\u001B[0m",
      "\u001B[1;31mFileNotFoundError\u001B[0m                         Traceback (most recent call last)",
      "Cell \u001B[1;32mIn[20], line 2\u001B[0m\n\u001B[0;32m      1\u001B[0m \u001B[38;5;28;01mtry\u001B[39;00m:\n\u001B[1;32m----> 2\u001B[0m     \u001B[38;5;28;43mopen\u001B[39;49m\u001B[43m(\u001B[49m\u001B[38;5;124;43m\"\u001B[39;49m\u001B[38;5;124;43mdatabase.sqlite\u001B[39;49m\u001B[38;5;124;43m\"\u001B[39;49m\u001B[43m)\u001B[49m\n\u001B[0;32m      3\u001B[0m     \u001B[38;5;28;01mraise\u001B[39;00m \u001B[38;5;167;01mOSError\u001B[39;00m(\u001B[38;5;124m'\u001B[39m\u001B[38;5;124m123\u001B[39m\u001B[38;5;124m'\u001B[39m)\n",
      "File \u001B[1;32m~\\AppData\\Local\\Programs\\Python\\Python39\\lib\\site-packages\\IPython\\core\\interactiveshell.py:310\u001B[0m, in \u001B[0;36m_modified_open\u001B[1;34m(file, *args, **kwargs)\u001B[0m\n\u001B[0;32m    304\u001B[0m     \u001B[38;5;28;01mraise\u001B[39;00m \u001B[38;5;167;01mValueError\u001B[39;00m(\n\u001B[0;32m    305\u001B[0m         \u001B[38;5;124mf\u001B[39m\u001B[38;5;124m\"\u001B[39m\u001B[38;5;124mIPython won\u001B[39m\u001B[38;5;124m'\u001B[39m\u001B[38;5;124mt let you open fd=\u001B[39m\u001B[38;5;132;01m{\u001B[39;00mfile\u001B[38;5;132;01m}\u001B[39;00m\u001B[38;5;124m by default \u001B[39m\u001B[38;5;124m\"\u001B[39m\n\u001B[0;32m    306\u001B[0m         \u001B[38;5;124m\"\u001B[39m\u001B[38;5;124mas it is likely to crash IPython. If you know what you are doing, \u001B[39m\u001B[38;5;124m\"\u001B[39m\n\u001B[0;32m    307\u001B[0m         \u001B[38;5;124m\"\u001B[39m\u001B[38;5;124myou can use builtins\u001B[39m\u001B[38;5;124m'\u001B[39m\u001B[38;5;124m open.\u001B[39m\u001B[38;5;124m\"\u001B[39m\n\u001B[0;32m    308\u001B[0m     )\n\u001B[1;32m--> 310\u001B[0m \u001B[38;5;28;01mreturn\u001B[39;00m io_open(file, \u001B[38;5;241m*\u001B[39margs, \u001B[38;5;241m*\u001B[39m\u001B[38;5;241m*\u001B[39mkwargs)\n",
      "\u001B[1;31mFileNotFoundError\u001B[0m: [Errno 2] No such file or directory: 'database.sqlite'",
      "\nDuring handling of the above exception, another exception occurred:\n",
      "\u001B[1;31mRuntimeError\u001B[0m                              Traceback (most recent call last)",
      "Cell \u001B[1;32mIn[20], line 5\u001B[0m\n\u001B[0;32m      3\u001B[0m     \u001B[38;5;28;01mraise\u001B[39;00m \u001B[38;5;167;01mOSError\u001B[39;00m(\u001B[38;5;124m'\u001B[39m\u001B[38;5;124m123\u001B[39m\u001B[38;5;124m'\u001B[39m)\n\u001B[0;32m      4\u001B[0m \u001B[38;5;28;01mexcept\u001B[39;00m \u001B[38;5;167;01mOSError\u001B[39;00m :\n\u001B[1;32m----> 5\u001B[0m     \u001B[38;5;28;01mraise\u001B[39;00m \u001B[38;5;167;01mRuntimeError\u001B[39;00m(\u001B[38;5;124m\"\u001B[39m\u001B[38;5;124munable to handle error\u001B[39m\u001B[38;5;124m\"\u001B[39m)\n\u001B[0;32m      6\u001B[0m     \u001B[38;5;66;03m#RuntimeError: unable to handle error\u001B[39;00m\n",
      "\u001B[1;31mRuntimeError\u001B[0m: unable to handle error"
     ]
    }
   ],
   "source": [
    "try:\n",
    "    open(\"database.sqlite\")\n",
    "    raise OSError('123')\n",
    "except OSError:\n",
    "    raise RuntimeError(\"unable to handle error\")\n",
    "    #RuntimeError: unable to handle error"
   ],
   "metadata": {
    "collapsed": false,
    "ExecuteTime": {
     "end_time": "2024-01-03T13:46:07.538363800Z",
     "start_time": "2024-01-03T13:46:07.496223100Z"
    }
   },
   "id": "c2de74854ac38207",
   "execution_count": 20
  },
  {
   "cell_type": "code",
   "outputs": [
    {
     "ename": "AttributeError",
     "evalue": "'ConnectionError' object has no attribute 'add_note'",
     "output_type": "error",
     "traceback": [
      "\u001B[1;31m---------------------------------------------------------------------------\u001B[0m",
      "\u001B[1;31mConnectionError\u001B[0m                           Traceback (most recent call last)",
      "Cell \u001B[1;32mIn[26], line 6\u001B[0m\n\u001B[0;32m      5\u001B[0m \u001B[38;5;28;01mtry\u001B[39;00m:\n\u001B[1;32m----> 6\u001B[0m     \u001B[43mfunc\u001B[49m\u001B[43m(\u001B[49m\u001B[43m)\u001B[49m\n\u001B[0;32m      7\u001B[0m \u001B[38;5;28;01mexcept\u001B[39;00m \u001B[38;5;167;01mConnectionError\u001B[39;00m \u001B[38;5;28;01mas\u001B[39;00m cn:\n",
      "Cell \u001B[1;32mIn[26], line 2\u001B[0m, in \u001B[0;36mfunc\u001B[1;34m()\u001B[0m\n\u001B[0;32m      1\u001B[0m \u001B[38;5;28;01mdef\u001B[39;00m \u001B[38;5;21mfunc\u001B[39m():\n\u001B[1;32m----> 2\u001B[0m     \u001B[38;5;28;01mraise\u001B[39;00m \u001B[38;5;167;01mConnectionError\u001B[39;00m\n",
      "\u001B[1;31mConnectionError\u001B[0m: ",
      "\nDuring handling of the above exception, another exception occurred:\n",
      "\u001B[1;31mAttributeError\u001B[0m                            Traceback (most recent call last)",
      "Cell \u001B[1;32mIn[26], line 8\u001B[0m\n\u001B[0;32m      6\u001B[0m     func()\n\u001B[0;32m      7\u001B[0m \u001B[38;5;28;01mexcept\u001B[39;00m \u001B[38;5;167;01mConnectionError\u001B[39;00m \u001B[38;5;28;01mas\u001B[39;00m cn:\n\u001B[1;32m----> 8\u001B[0m     \u001B[43mcn\u001B[49m\u001B[38;5;241;43m.\u001B[39;49m\u001B[43madd_note\u001B[49m(\u001B[38;5;124m'\u001B[39m\u001B[38;5;124mhello world\u001B[39m\u001B[38;5;124m'\u001B[39m)\n\u001B[0;32m      9\u001B[0m     \u001B[38;5;28;01mraise\u001B[39;00m \u001B[38;5;167;01mRuntimeError\u001B[39;00m(\u001B[38;5;124m'\u001B[39m\u001B[38;5;124mFailed to open database\u001B[39m\u001B[38;5;124m'\u001B[39m) \u001B[38;5;28;01mfrom\u001B[39;00m \u001B[38;5;21;01mcn\u001B[39;00m\n",
      "\u001B[1;31mAttributeError\u001B[0m: 'ConnectionError' object has no attribute 'add_note'"
     ]
    }
   ],
   "source": [
    "def func():\n",
    "    raise ConnectionError\n",
    "\n",
    "\n",
    "try:\n",
    "    func()\n",
    "except ConnectionError as cn:\n",
    "    cn.add_note('hello world')\n",
    "    raise RuntimeError('Failed to open database') from cn"
   ],
   "metadata": {
    "collapsed": false,
    "ExecuteTime": {
     "end_time": "2024-01-03T13:53:02.815550200Z",
     "start_time": "2024-01-03T13:53:02.775636100Z"
    }
   },
   "id": "296de32bbf908d48",
   "execution_count": 26
  },
  {
   "cell_type": "code",
   "outputs": [
    {
     "ename": "NameError",
     "evalue": "name 'ExceptionGroup' is not defined",
     "output_type": "error",
     "traceback": [
      "\u001B[1;31m---------------------------------------------------------------------------\u001B[0m",
      "\u001B[1;31mNameError\u001B[0m                                 Traceback (most recent call last)",
      "Cell \u001B[1;32mIn[24], line 5\u001B[0m\n\u001B[0;32m      2\u001B[0m     excs \u001B[38;5;241m=\u001B[39m [\u001B[38;5;167;01mOSError\u001B[39;00m(\u001B[38;5;124m'\u001B[39m\u001B[38;5;124merror 1\u001B[39m\u001B[38;5;124m'\u001B[39m), \u001B[38;5;167;01mSystemError\u001B[39;00m(\u001B[38;5;124m'\u001B[39m\u001B[38;5;124merror 2\u001B[39m\u001B[38;5;124m'\u001B[39m)]\n\u001B[0;32m      3\u001B[0m     \u001B[38;5;28;01mraise\u001B[39;00m ExceptionGroup(\u001B[38;5;124m'\u001B[39m\u001B[38;5;124mthere were problems\u001B[39m\u001B[38;5;124m'\u001B[39m, excs)\n\u001B[1;32m----> 5\u001B[0m \u001B[43mf\u001B[49m\u001B[43m(\u001B[49m\u001B[43m)\u001B[49m\n\u001B[0;32m      7\u001B[0m \u001B[38;5;28;01mtry\u001B[39;00m:\n\u001B[0;32m      8\u001B[0m     f()\n",
      "Cell \u001B[1;32mIn[24], line 3\u001B[0m, in \u001B[0;36mf\u001B[1;34m()\u001B[0m\n\u001B[0;32m      1\u001B[0m \u001B[38;5;28;01mdef\u001B[39;00m \u001B[38;5;21mf\u001B[39m():\n\u001B[0;32m      2\u001B[0m     excs \u001B[38;5;241m=\u001B[39m [\u001B[38;5;167;01mOSError\u001B[39;00m(\u001B[38;5;124m'\u001B[39m\u001B[38;5;124merror 1\u001B[39m\u001B[38;5;124m'\u001B[39m), \u001B[38;5;167;01mSystemError\u001B[39;00m(\u001B[38;5;124m'\u001B[39m\u001B[38;5;124merror 2\u001B[39m\u001B[38;5;124m'\u001B[39m)]\n\u001B[1;32m----> 3\u001B[0m     \u001B[38;5;28;01mraise\u001B[39;00m \u001B[43mExceptionGroup\u001B[49m(\u001B[38;5;124m'\u001B[39m\u001B[38;5;124mthere were problems\u001B[39m\u001B[38;5;124m'\u001B[39m, excs)\n",
      "\u001B[1;31mNameError\u001B[0m: name 'ExceptionGroup' is not defined"
     ]
    }
   ],
   "source": [
    "def f():\n",
    "    excs = [OSError('error 1'), SystemError('error 2')]\n",
    "    raise ExceptionGroup('there were problems', excs)\n",
    "\n",
    "\n",
    "f()\n",
    "\n",
    "try:\n",
    "    f()\n",
    "except Exception as e:\n",
    "    print(f'caught {type(e)}: e')"
   ],
   "metadata": {
    "collapsed": false,
    "ExecuteTime": {
     "end_time": "2024-01-03T13:50:49.230320600Z",
     "start_time": "2024-01-03T13:50:49.198714200Z"
    }
   },
   "id": "605fc9eaf3a56f6e",
   "execution_count": 24
  },
  {
   "cell_type": "markdown",
   "source": [],
   "metadata": {
    "collapsed": false
   },
   "id": "b2cb3a1c1b01fe9e"
  },
  {
   "cell_type": "code",
   "outputs": [
    {
     "name": "stdout",
     "output_type": "stream",
     "text": [
      "After local assignment: test spam\n",
      "After nonlocal assignment: nonlocal spam\n",
      "After global assignment: nonlocal spam\n",
      "In global scope: global spam\n"
     ]
    }
   ],
   "source": [
    "def scope_test():\n",
    "    def do_local():\n",
    "        spam = \"local spam\"\n",
    "\n",
    "    def do_nonlocal():\n",
    "        nonlocal spam\n",
    "        spam = \"nonlocal spam\"\n",
    "\n",
    "    def do_global():\n",
    "        global spam\n",
    "        spam = \"global spam\"\n",
    "\n",
    "    spam = \"test spam\"\n",
    "    do_local()  # 局部赋值，会导致函数认为在本地创建一个变量，不会影响到外面\n",
    "    print(\"After local assignment:\", spam)  # test spam\n",
    "    do_nonlocal()  # 让内部函数认为该变量为外部函数的，所以可以改变内容\n",
    "    print(\"After nonlocal assignment:\", spam)\n",
    "    do_global()  # 对全局变量进行赋值，但是输出的时候是从内向外查找变量，如果内部有变量直接进行输出\n",
    "    print(\"After global assignment:\", spam)\n",
    "\n",
    "\n",
    "scope_test()\n",
    "print(\"In global scope:\", spam)  # global可以不提前声明变量，所以赋值后就改变全局变量\n",
    "# nonlocal必须提前定义好一个变量，否则会报错"
   ],
   "metadata": {
    "collapsed": false,
    "ExecuteTime": {
     "end_time": "2024-01-03T14:03:45.988183100Z",
     "start_time": "2024-01-03T14:03:45.979745200Z"
    }
   },
   "id": "af365d7a8e22aef0",
   "execution_count": 27
  },
  {
   "cell_type": "code",
   "outputs": [
    {
     "name": "stdout",
     "output_type": "stream",
     "text": [
      "1\n",
      "2\n",
      "3\n",
      "1\n",
      "2\n",
      "3\n",
      "one\n",
      "two\n",
      "1\n",
      "2\n",
      "3\n"
     ]
    },
    {
     "ename": "FileNotFoundError",
     "evalue": "[Errno 2] No such file or directory: 'myfile.txt'",
     "output_type": "error",
     "traceback": [
      "\u001B[1;31m---------------------------------------------------------------------------\u001B[0m",
      "\u001B[1;31mFileNotFoundError\u001B[0m                         Traceback (most recent call last)",
      "Cell \u001B[1;32mIn[28], line 9\u001B[0m\n\u001B[0;32m      7\u001B[0m \u001B[38;5;28;01mfor\u001B[39;00m char \u001B[38;5;129;01min\u001B[39;00m \u001B[38;5;124m\"\u001B[39m\u001B[38;5;124m123\u001B[39m\u001B[38;5;124m\"\u001B[39m:\n\u001B[0;32m      8\u001B[0m     \u001B[38;5;28mprint\u001B[39m(char)\n\u001B[1;32m----> 9\u001B[0m \u001B[38;5;28;01mfor\u001B[39;00m line \u001B[38;5;129;01min\u001B[39;00m \u001B[38;5;28;43mopen\u001B[39;49m\u001B[43m(\u001B[49m\u001B[38;5;124;43m\"\u001B[39;49m\u001B[38;5;124;43mmyfile.txt\u001B[39;49m\u001B[38;5;124;43m\"\u001B[39;49m\u001B[43m)\u001B[49m:\n\u001B[0;32m     10\u001B[0m     \u001B[38;5;28mprint\u001B[39m(line, end\u001B[38;5;241m=\u001B[39m\u001B[38;5;124m'\u001B[39m\u001B[38;5;124m'\u001B[39m)\n",
      "File \u001B[1;32m~\\AppData\\Local\\Programs\\Python\\Python39\\lib\\site-packages\\IPython\\core\\interactiveshell.py:310\u001B[0m, in \u001B[0;36m_modified_open\u001B[1;34m(file, *args, **kwargs)\u001B[0m\n\u001B[0;32m    303\u001B[0m \u001B[38;5;28;01mif\u001B[39;00m file \u001B[38;5;129;01min\u001B[39;00m {\u001B[38;5;241m0\u001B[39m, \u001B[38;5;241m1\u001B[39m, \u001B[38;5;241m2\u001B[39m}:\n\u001B[0;32m    304\u001B[0m     \u001B[38;5;28;01mraise\u001B[39;00m \u001B[38;5;167;01mValueError\u001B[39;00m(\n\u001B[0;32m    305\u001B[0m         \u001B[38;5;124mf\u001B[39m\u001B[38;5;124m\"\u001B[39m\u001B[38;5;124mIPython won\u001B[39m\u001B[38;5;124m'\u001B[39m\u001B[38;5;124mt let you open fd=\u001B[39m\u001B[38;5;132;01m{\u001B[39;00mfile\u001B[38;5;132;01m}\u001B[39;00m\u001B[38;5;124m by default \u001B[39m\u001B[38;5;124m\"\u001B[39m\n\u001B[0;32m    306\u001B[0m         \u001B[38;5;124m\"\u001B[39m\u001B[38;5;124mas it is likely to crash IPython. If you know what you are doing, \u001B[39m\u001B[38;5;124m\"\u001B[39m\n\u001B[0;32m    307\u001B[0m         \u001B[38;5;124m\"\u001B[39m\u001B[38;5;124myou can use builtins\u001B[39m\u001B[38;5;124m'\u001B[39m\u001B[38;5;124m open.\u001B[39m\u001B[38;5;124m\"\u001B[39m\n\u001B[0;32m    308\u001B[0m     )\n\u001B[1;32m--> 310\u001B[0m \u001B[38;5;28;01mreturn\u001B[39;00m io_open(file, \u001B[38;5;241m*\u001B[39margs, \u001B[38;5;241m*\u001B[39m\u001B[38;5;241m*\u001B[39mkwargs)\n",
      "\u001B[1;31mFileNotFoundError\u001B[0m: [Errno 2] No such file or directory: 'myfile.txt'"
     ]
    }
   ],
   "source": [
    "for element in [1, 2, 3]:\n",
    "    print(element)\n",
    "for element in (1, 2, 3):\n",
    "    print(element)\n",
    "for key in {'one': 1, 'two': 2}:\n",
    "    print(key)\n",
    "for char in \"123\":\n",
    "    print(char)\n",
    "for line in open(\"\"):\n",
    "    print(line, end='')"
   ],
   "metadata": {
    "collapsed": false,
    "ExecuteTime": {
     "end_time": "2024-01-03T14:25:54.877598200Z",
     "start_time": "2024-01-03T14:25:54.846217500Z"
    }
   },
   "id": "ba3affe59c2e0065",
   "execution_count": 28
  },
  {
   "cell_type": "markdown",
   "source": [],
   "metadata": {
    "collapsed": false
   },
   "id": "b73b015b9d04e9de"
  },
  {
   "cell_type": "markdown",
   "source": [
    "# 迭代器和生成器"
   ],
   "metadata": {
    "collapsed": false
   },
   "id": "42da883edef1e71"
  },
  {
   "cell_type": "code",
   "outputs": [
    {
     "data": {
      "text/plain": "'a'"
     },
     "execution_count": 31,
     "metadata": {},
     "output_type": "execute_result"
    }
   ],
   "source": [
    "s = 'abc'\n",
    "it = iter(s)\n",
    "it\n",
    "\n",
    "next(it)  # a\n",
    "# \n",
    "# next(it) #b\n",
    "# \n",
    "# next(it) #c\n",
    "\n",
    "# next(it) #StopIteration\n"
   ],
   "metadata": {
    "collapsed": false,
    "ExecuteTime": {
     "end_time": "2024-01-03T14:27:16.402387400Z",
     "start_time": "2024-01-03T14:27:16.392202100Z"
    }
   },
   "id": "dc69bb29e7a219b9",
   "execution_count": 31
  },
  {
   "cell_type": "code",
   "outputs": [
    {
     "name": "stdout",
     "output_type": "stream",
     "text": [
      "f\n",
      "l\n",
      "o\n",
      "g\n"
     ]
    }
   ],
   "source": [
    "def reverse(data):\n",
    "    # range 左闭右开\n",
    "    for index in range(len(data)-1, -1, -1):\n",
    "        yield data[index]\n",
    "        \n",
    "for char in reverse('golf'):\n",
    "    print(char)\n",
    "\n"
   ],
   "metadata": {
    "collapsed": false,
    "ExecuteTime": {
     "end_time": "2024-01-03T14:28:28.913156400Z",
     "start_time": "2024-01-03T14:28:28.887076600Z"
    }
   },
   "id": "2770220c3ee92ac3",
   "execution_count": 32
  },
  {
   "cell_type": "code",
   "outputs": [],
   "source": [],
   "metadata": {
    "collapsed": false
   },
   "id": "4b324abe25cab67e"
  }
 ],
 "metadata": {
  "kernelspec": {
   "display_name": "Python 3",
   "language": "python",
   "name": "python3"
  },
  "language_info": {
   "codemirror_mode": {
    "name": "ipython",
    "version": 2
   },
   "file_extension": ".py",
   "mimetype": "text/x-python",
   "name": "python",
   "nbconvert_exporter": "python",
   "pygments_lexer": "ipython2",
   "version": "2.7.6"
  }
 },
 "nbformat": 4,
 "nbformat_minor": 5
}
